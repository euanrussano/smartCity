{
 "cells": [
  {
   "cell_type": "code",
   "execution_count": 13,
   "metadata": {},
   "outputs": [],
   "source": [
    "import requests\n",
    "import pandas as pd"
   ]
  },
  {
   "cell_type": "code",
   "execution_count": 15,
   "metadata": {},
   "outputs": [
    {
     "data": {
      "text/html": [
       "<div>\n",
       "<style scoped>\n",
       "    .dataframe tbody tr th:only-of-type {\n",
       "        vertical-align: middle;\n",
       "    }\n",
       "\n",
       "    .dataframe tbody tr th {\n",
       "        vertical-align: top;\n",
       "    }\n",
       "\n",
       "    .dataframe thead th {\n",
       "        text-align: right;\n",
       "    }\n",
       "</style>\n",
       "<table border=\"1\" class=\"dataframe\">\n",
       "  <thead>\n",
       "    <tr style=\"text-align: right;\">\n",
       "      <th></th>\n",
       "      <th>url</th>\n",
       "      <th>name</th>\n",
       "      <th>latitude</th>\n",
       "      <th>longitude</th>\n",
       "      <th>radius</th>\n",
       "    </tr>\n",
       "  </thead>\n",
       "  <tbody>\n",
       "    <tr>\n",
       "      <th>0</th>\n",
       "      <td>http://127.0.0.1:5000/iot/cities/1/</td>\n",
       "      <td>Rio de Janeiro</td>\n",
       "      <td>0.0</td>\n",
       "      <td>0.0</td>\n",
       "      <td>0.0</td>\n",
       "    </tr>\n",
       "    <tr>\n",
       "      <th>1</th>\n",
       "      <td>http://127.0.0.1:5000/iot/cities/2/</td>\n",
       "      <td>New York</td>\n",
       "      <td>0.0</td>\n",
       "      <td>0.0</td>\n",
       "      <td>0.0</td>\n",
       "    </tr>\n",
       "    <tr>\n",
       "      <th>2</th>\n",
       "      <td>http://127.0.0.1:5000/iot/cities/5/</td>\n",
       "      <td>Dubai</td>\n",
       "      <td>0.0</td>\n",
       "      <td>0.0</td>\n",
       "      <td>0.0</td>\n",
       "    </tr>\n",
       "    <tr>\n",
       "      <th>3</th>\n",
       "      <td>http://127.0.0.1:5000/iot/cities/9/</td>\n",
       "      <td>Jerusalem</td>\n",
       "      <td>100.0</td>\n",
       "      <td>200.0</td>\n",
       "      <td>1000.0</td>\n",
       "    </tr>\n",
       "    <tr>\n",
       "      <th>4</th>\n",
       "      <td>http://127.0.0.1:5000/iot/cities/10/</td>\n",
       "      <td>Sao Paulo</td>\n",
       "      <td>600.0</td>\n",
       "      <td>-200.0</td>\n",
       "      <td>1.0</td>\n",
       "    </tr>\n",
       "  </tbody>\n",
       "</table>\n",
       "</div>"
      ],
      "text/plain": [
       "                                    url            name  latitude  longitude  \\\n",
       "0   http://127.0.0.1:5000/iot/cities/1/  Rio de Janeiro       0.0        0.0   \n",
       "1   http://127.0.0.1:5000/iot/cities/2/        New York       0.0        0.0   \n",
       "2   http://127.0.0.1:5000/iot/cities/5/           Dubai       0.0        0.0   \n",
       "3   http://127.0.0.1:5000/iot/cities/9/       Jerusalem     100.0      200.0   \n",
       "4  http://127.0.0.1:5000/iot/cities/10/       Sao Paulo     600.0     -200.0   \n",
       "\n",
       "   radius  \n",
       "0     0.0  \n",
       "1     0.0  \n",
       "2     0.0  \n",
       "3  1000.0  \n",
       "4     1.0  "
      ]
     },
     "execution_count": 15,
     "metadata": {},
     "output_type": "execute_result"
    }
   ],
   "source": [
    "BASE_HOST = 'http://127.0.0.1:5000'\n",
    "\n",
    "# get list of cities\n",
    "pd.DataFrame(requests.get(BASE_HOST + '/iot/api/cities/').json())"
   ]
  },
  {
   "cell_type": "code",
   "execution_count": 16,
   "metadata": {},
   "outputs": [
    {
     "data": {
      "text/html": [
       "<div>\n",
       "<style scoped>\n",
       "    .dataframe tbody tr th:only-of-type {\n",
       "        vertical-align: middle;\n",
       "    }\n",
       "\n",
       "    .dataframe tbody tr th {\n",
       "        vertical-align: top;\n",
       "    }\n",
       "\n",
       "    .dataframe thead th {\n",
       "        text-align: right;\n",
       "    }\n",
       "</style>\n",
       "<table border=\"1\" class=\"dataframe\">\n",
       "  <thead>\n",
       "    <tr style=\"text-align: right;\">\n",
       "      <th></th>\n",
       "      <th>url</th>\n",
       "      <th>city_holder</th>\n",
       "      <th>latitude</th>\n",
       "      <th>longitude</th>\n",
       "      <th>status</th>\n",
       "      <th>enabled</th>\n",
       "    </tr>\n",
       "  </thead>\n",
       "  <tbody>\n",
       "    <tr>\n",
       "      <th>0</th>\n",
       "      <td>http://127.0.0.1:5000/iot/devices/6/</td>\n",
       "      <td>{'url': 'http://127.0.0.1:5000/iot/cities/5/',...</td>\n",
       "      <td>0.0</td>\n",
       "      <td>0.0</td>\n",
       "      <td>UM</td>\n",
       "      <td>False</td>\n",
       "    </tr>\n",
       "    <tr>\n",
       "      <th>1</th>\n",
       "      <td>http://127.0.0.1:5000/iot/devices/7/</td>\n",
       "      <td>{'url': 'http://127.0.0.1:5000/iot/cities/5/',...</td>\n",
       "      <td>0.0</td>\n",
       "      <td>0.0</td>\n",
       "      <td>W</td>\n",
       "      <td>True</td>\n",
       "    </tr>\n",
       "    <tr>\n",
       "      <th>2</th>\n",
       "      <td>http://127.0.0.1:5000/iot/devices/8/</td>\n",
       "      <td>{'url': 'http://127.0.0.1:5000/iot/cities/5/',...</td>\n",
       "      <td>0.0</td>\n",
       "      <td>0.0</td>\n",
       "      <td>W</td>\n",
       "      <td>False</td>\n",
       "    </tr>\n",
       "  </tbody>\n",
       "</table>\n",
       "</div>"
      ],
      "text/plain": [
       "                                    url  \\\n",
       "0  http://127.0.0.1:5000/iot/devices/6/   \n",
       "1  http://127.0.0.1:5000/iot/devices/7/   \n",
       "2  http://127.0.0.1:5000/iot/devices/8/   \n",
       "\n",
       "                                         city_holder  latitude  longitude  \\\n",
       "0  {'url': 'http://127.0.0.1:5000/iot/cities/5/',...       0.0        0.0   \n",
       "1  {'url': 'http://127.0.0.1:5000/iot/cities/5/',...       0.0        0.0   \n",
       "2  {'url': 'http://127.0.0.1:5000/iot/cities/5/',...       0.0        0.0   \n",
       "\n",
       "  status  enabled  \n",
       "0     UM    False  \n",
       "1      W     True  \n",
       "2      W    False  "
      ]
     },
     "execution_count": 16,
     "metadata": {},
     "output_type": "execute_result"
    }
   ],
   "source": [
    "# list of devices\n",
    "pd.DataFrame(requests.get(BASE_HOST + '/iot/api/devices/').json())"
   ]
  },
  {
   "cell_type": "code",
   "execution_count": 17,
   "metadata": {},
   "outputs": [
    {
     "data": {
      "text/html": [
       "<div>\n",
       "<style scoped>\n",
       "    .dataframe tbody tr th:only-of-type {\n",
       "        vertical-align: middle;\n",
       "    }\n",
       "\n",
       "    .dataframe tbody tr th {\n",
       "        vertical-align: top;\n",
       "    }\n",
       "\n",
       "    .dataframe thead th {\n",
       "        text-align: right;\n",
       "    }\n",
       "</style>\n",
       "<table border=\"1\" class=\"dataframe\">\n",
       "  <thead>\n",
       "    <tr style=\"text-align: right;\">\n",
       "      <th></th>\n",
       "      <th>name</th>\n",
       "      <th>phone</th>\n",
       "      <th>url</th>\n",
       "    </tr>\n",
       "  </thead>\n",
       "  <tbody>\n",
       "    <tr>\n",
       "      <th>0</th>\n",
       "      <td>John</td>\n",
       "      <td>21-3333-4444</td>\n",
       "      <td>http://127.0.0.1:5000/iot/residents/1/</td>\n",
       "    </tr>\n",
       "    <tr>\n",
       "      <th>1</th>\n",
       "      <td>Mary</td>\n",
       "      <td>21-3333-4444</td>\n",
       "      <td>http://127.0.0.1:5000/iot/residents/2/</td>\n",
       "    </tr>\n",
       "  </tbody>\n",
       "</table>\n",
       "</div>"
      ],
      "text/plain": [
       "   name         phone                                     url\n",
       "0  John  21-3333-4444  http://127.0.0.1:5000/iot/residents/1/\n",
       "1  Mary  21-3333-4444  http://127.0.0.1:5000/iot/residents/2/"
      ]
     },
     "execution_count": 17,
     "metadata": {},
     "output_type": "execute_result"
    }
   ],
   "source": [
    "# list of residents\n",
    "pd.DataFrame(requests.get(BASE_HOST + '/iot/api/residents/').json())"
   ]
  },
  {
   "cell_type": "code",
   "execution_count": null,
   "metadata": {},
   "outputs": [],
   "source": []
  }
 ],
 "metadata": {
  "kernelspec": {
   "display_name": "Python 3",
   "language": "python",
   "name": "python3"
  },
  "language_info": {
   "codemirror_mode": {
    "name": "ipython",
    "version": 3
   },
   "file_extension": ".py",
   "mimetype": "text/x-python",
   "name": "python",
   "nbconvert_exporter": "python",
   "pygments_lexer": "ipython3",
   "version": "3.8.6"
  }
 },
 "nbformat": 4,
 "nbformat_minor": 4
}
